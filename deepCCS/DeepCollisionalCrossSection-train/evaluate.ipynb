{
 "cells": [
  {
   "cell_type": "markdown",
   "metadata": {},
   "source": [
    "# Predict Script\n",
    "\n",
    "Scaling:\n",
    "- max and mival are saved in model_params['scaling_dict'] \n",
    "- this dict is used in encode_data and predict funcs"
   ]
  },
  {
   "cell_type": "code",
   "execution_count": 1,
   "metadata": {
    "scrolled": true
   },
   "outputs": [
    {
     "name": "stderr",
     "output_type": "stream",
     "text": [
      "/media/niklas/Data_3/MannProteomics_jean/MannProteomics/env/lib/python3.6/site-packages/tensorflow/python/framework/dtypes.py:526: FutureWarning: Passing (type, 1) or '1type' as a synonym of type is deprecated; in a future version of numpy, it will be understood as (type, (1,)) / '(1,)type'.\n",
      "  _np_qint8 = np.dtype([(\"qint8\", np.int8, 1)])\n",
      "/media/niklas/Data_3/MannProteomics_jean/MannProteomics/env/lib/python3.6/site-packages/tensorflow/python/framework/dtypes.py:527: FutureWarning: Passing (type, 1) or '1type' as a synonym of type is deprecated; in a future version of numpy, it will be understood as (type, (1,)) / '(1,)type'.\n",
      "  _np_quint8 = np.dtype([(\"quint8\", np.uint8, 1)])\n",
      "/media/niklas/Data_3/MannProteomics_jean/MannProteomics/env/lib/python3.6/site-packages/tensorflow/python/framework/dtypes.py:528: FutureWarning: Passing (type, 1) or '1type' as a synonym of type is deprecated; in a future version of numpy, it will be understood as (type, (1,)) / '(1,)type'.\n",
      "  _np_qint16 = np.dtype([(\"qint16\", np.int16, 1)])\n",
      "/media/niklas/Data_3/MannProteomics_jean/MannProteomics/env/lib/python3.6/site-packages/tensorflow/python/framework/dtypes.py:529: FutureWarning: Passing (type, 1) or '1type' as a synonym of type is deprecated; in a future version of numpy, it will be understood as (type, (1,)) / '(1,)type'.\n",
      "  _np_quint16 = np.dtype([(\"quint16\", np.uint16, 1)])\n",
      "/media/niklas/Data_3/MannProteomics_jean/MannProteomics/env/lib/python3.6/site-packages/tensorflow/python/framework/dtypes.py:530: FutureWarning: Passing (type, 1) or '1type' as a synonym of type is deprecated; in a future version of numpy, it will be understood as (type, (1,)) / '(1,)type'.\n",
      "  _np_qint32 = np.dtype([(\"qint32\", np.int32, 1)])\n",
      "/media/niklas/Data_3/MannProteomics_jean/MannProteomics/env/lib/python3.6/site-packages/tensorflow/python/framework/dtypes.py:535: FutureWarning: Passing (type, 1) or '1type' as a synonym of type is deprecated; in a future version of numpy, it will be understood as (type, (1,)) / '(1,)type'.\n",
      "  np_resource = np.dtype([(\"resource\", np.ubyte, 1)])\n"
     ]
    },
    {
     "name": "stdout",
     "output_type": "stream",
     "text": [
      "{'lab_name': 'label', 'fname': 'cache/one_dat_cache_full_label.npy', 'num_input': 32, 'timesteps': 66, 'num_hidden': 128, 'num_layers': 2, 'num_classes': 1, 'dropout_keep_prob': 0.9, 'use_uncertainty': False, 'use_attention': True, 'simple': False, 'num_tasks': -1, 'batch_size': 64, 'model_dir': 'out/Tests_200206_ward_min2_PTtest_2/', 'model_dir_pretrain': None, 'lr_base': 0.001, 'training_steps': 55000, 'reduce_lr_step': 50000, 'train_file': 'data_final/Tests/200206_ward_min2_PTtest/2_train.pkl', 'test_file': 'data_final/Tests/200206_ward_min2_PTtest/2_test.pkl', 'reduce_train': 0.5, 'scaling_dict': {'0': [275.41885375976557, 1118.7861328125]}}\n",
      "Model:  <function BiRNN_new at 0x7fbf53ac8f28>\n"
     ]
    },
    {
     "name": "stderr",
     "output_type": "stream",
     "text": [
      "/media/niklas/Data_3/MannProteomics_jean/MannProteomics/env/lib/python3.6/site-packages/sklearn/base.py:306: UserWarning: Trying to unpickle estimator LabelEncoder from version 0.21.2 when using version 0.21.3. This might lead to breaking code or invalid results. Use at your own risk.\n",
      "  UserWarning)\n"
     ]
    }
   ],
   "source": [
    "from __future__ import print_function\n",
    "\n",
    "%load_ext autoreload\n",
    "%autoreload 2\n",
    "\n",
    "import tensorflow as tf\n",
    "import pandas as pd\n",
    "import numpy as np\n",
    "import scipy, pickle\n",
    "import matplotlib.pyplot as plt\n",
    "import seaborn as sns\n",
    "import random, sys, os, json\n",
    "from models import BiRNN_new, mlp, logreg\n",
    "from data_util import get_data_set, one_hot_dataset, scale, unscale, int_dataset\n",
    "from palettes import godsnot_64, zeileis_26\n",
    "from bidirectional_lstm import predict\n",
    "from data_util import Delta_t95, RMSE, Delta_tr95\n",
    "from predict_util import get_color, plot_att\n",
    "sns.set(rc={\"axes.facecolor\":\"#e6e6e6\",\n",
    "            \"axes.grid\":True,\n",
    "               })\n",
    "\n",
    "model_dir = './out/Tests_200206_ward_min2_PTtest_2/'\n",
    "file_to_predict = 'data_final/Tests/4/2_test.pkl'\n",
    "datasetname='4_batch'\n",
    "\n",
    "with open(model_dir+'model_params.json') as f:\n",
    "    model_params = json.load(f)\n",
    "print(model_params)\n",
    "if file_to_predict != None:\n",
    "    model_params['test_file'] = file_to_predict\n",
    "\n",
    "\n",
    "model = BiRNN_new\n",
    "print('Model: ', model)\n",
    "figure_dir = model_params['model_dir'] + '/figures/'\n",
    "lab_name = model_params['lab_name']\n",
    "timesteps = model_params['timesteps']\n",
    "\n",
    "with open('data_final/enc.pickle', 'rb') as handle:\n",
    "    label_encoder = pickle.load(handle)\n",
    "\n",
    "c_dict = {}\n",
    "for c,i in enumerate(label_encoder.classes_):\n",
    "    c_dict[i]=godsnot_64[c]"
   ]
  },
  {
   "cell_type": "code",
   "execution_count": 2,
   "metadata": {},
   "outputs": [
    {
     "data": {
      "text/plain": [
       "{'lab_name': 'label',\n",
       " 'fname': 'cache/one_dat_cache_full_label.npy',\n",
       " 'num_input': 32,\n",
       " 'timesteps': 66,\n",
       " 'num_hidden': 128,\n",
       " 'num_layers': 2,\n",
       " 'num_classes': 1,\n",
       " 'dropout_keep_prob': 0.9,\n",
       " 'use_uncertainty': False,\n",
       " 'use_attention': True,\n",
       " 'simple': False,\n",
       " 'num_tasks': -1,\n",
       " 'batch_size': 64,\n",
       " 'model_dir': 'out/Tests_200206_ward_min2_PTtest_2/',\n",
       " 'model_dir_pretrain': None,\n",
       " 'lr_base': 0.001,\n",
       " 'training_steps': 55000,\n",
       " 'reduce_lr_step': 50000,\n",
       " 'train_file': 'data_final/Tests/200206_ward_min2_PTtest/2_train.pkl',\n",
       " 'test_file': 'data_final/Tests/4/2_test.pkl',\n",
       " 'reduce_train': 0.5,\n",
       " 'scaling_dict': {'0': [275.41885375976557, 1118.7861328125]}}"
      ]
     },
     "execution_count": 2,
     "metadata": {},
     "output_type": "execute_result"
    }
   ],
   "source": [
    "model_params\n"
   ]
  },
  {
   "cell_type": "code",
   "execution_count": 3,
   "metadata": {
    "scrolled": false
   },
   "outputs": [
    {
     "name": "stdout",
     "output_type": "stream",
     "text": [
      "Using data_final/Tests/4/2_test.pkl\n",
      "minmax 275.41885375976557 1118.7861328125\n",
      "WARNING:tensorflow:From /media/niklas/Data_3/MannProteomics_jean/MannProteomics/env/lib/python3.6/site-packages/tensorflow/python/data/ops/dataset_ops.py:1419: colocate_with (from tensorflow.python.framework.ops) is deprecated and will be removed in a future version.\n",
      "Instructions for updating:\n",
      "Colocations handled automatically by placer.\n"
     ]
    }
   ],
   "source": [
    "from predict_util import encode_data, get_tf_dataset\n",
    "\n",
    "test_data = pd.read_pickle(model_params['test_file'])\n",
    "print('Using %s' % (model_params['test_file']))\n",
    "test_sequences = test_data['Modified_sequence'].values\n",
    "\n",
    "\n",
    "data = test_data\n",
    "org_columns = data.columns\n",
    "\n",
    "replaced_charge = False\n",
    "try:\n",
    "    data[model_params['lab_name']]\n",
    "except:\n",
    "    data[model_params['lab_name']]=np.zeros(len(data))\n",
    "    replaced_charge = True\n",
    "\n",
    "one_dat, lab, meta_data, test_size = encode_data(data, model_params)\n",
    "\n",
    "#build iterator on testdata\n",
    "dataset_test = get_tf_dataset(one_dat, lab, meta_data, data, model_params) \n",
    "iter_test = dataset_test.make_initializable_iterator()\n",
    "next_element_test = iter_test.get_next()\n",
    "\n"
   ]
  },
  {
   "cell_type": "code",
   "execution_count": 4,
   "metadata": {},
   "outputs": [
    {
     "name": "stdout",
     "output_type": "stream",
     "text": [
      "WARNING:tensorflow:From /media/niklas/Data_3/MannProteomics_jean/DL_Peptide_CanonicalCrossSections/models.py:23: BasicLSTMCell.__init__ (from tensorflow.python.ops.rnn_cell_impl) is deprecated and will be removed in a future version.\n",
      "Instructions for updating:\n",
      "This class is equivalent as tf.keras.layers.LSTMCell, and will be replaced by that in Tensorflow 2.0.\n",
      "WARNING:tensorflow:From /media/niklas/Data_3/MannProteomics_jean/MannProteomics/env/lib/python3.6/site-packages/tensorflow/contrib/rnn/python/ops/rnn.py:233: bidirectional_dynamic_rnn (from tensorflow.python.ops.rnn) is deprecated and will be removed in a future version.\n",
      "Instructions for updating:\n",
      "Please use `keras.layers.Bidirectional(keras.layers.RNN(cell))`, which is equivalent to this API\n",
      "WARNING:tensorflow:From /media/niklas/Data_3/MannProteomics_jean/MannProteomics/env/lib/python3.6/site-packages/tensorflow/python/ops/rnn.py:443: dynamic_rnn (from tensorflow.python.ops.rnn) is deprecated and will be removed in a future version.\n",
      "Instructions for updating:\n",
      "Please use `keras.layers.RNN(cell)`, which is equivalent to this API\n",
      "Tensor(\"concat:0\", shape=(?, 256), dtype=float32) Tensor(\"stack_bidirectional_rnn/cell_1/bidirectional_rnn/bw/bw/while/Exit_4:0\", shape=(?, 128), dtype=float32) Tensor(\"stack_bidirectional_rnn/cell_1/bidirectional_rnn/fw/fw/while/Exit_4:0\", shape=(?, 128), dtype=float32)\n",
      "WARNING:tensorflow:From /media/niklas/Data_3/MannProteomics_jean/MannProteomics/env/lib/python3.6/site-packages/tensorflow/python/ops/losses/losses_impl.py:667: to_float (from tensorflow.python.ops.math_ops) is deprecated and will be removed in a future version.\n",
      "Instructions for updating:\n",
      "Use tf.cast instead.\n"
     ]
    }
   ],
   "source": [
    "#build graph\n",
    "#tf.reset_default_graph()\n",
    "if model_params['simple']:\n",
    "    X = tf.placeholder(\"float\", [None, model_params['num_input']])\n",
    "else:\n",
    "    X = tf.placeholder(\"float\", [None, model_params['timesteps']])\n",
    "if model_params['num_classes'] == 1:\n",
    "    Y = tf.placeholder(\"float\", [None, 1])\n",
    "else:\n",
    "    Y = tf.placeholder(\"int64\", [None, 1])\n",
    "if model_params['num_tasks'] != -1:\n",
    "    T = tf.placeholder(\"int32\", [None])\n",
    "else:\n",
    "    T=None\n",
    "C = tf.placeholder(\"float\", [None, meta_data.shape[1]])\n",
    "L = tf.placeholder(\"int32\", [None])\n",
    "dropout = tf.placeholder(\"float\", ())\n",
    "\n",
    "if model_params['num_tasks'] == -1:\n",
    "    prediction, logits, weights, biases, attention, cert = model(X, C, L, model_params['num_layers'], model_params['num_hidden'],  meta_data,\n",
    "                                                                 model_params['num_classes'],\n",
    "                                                                 model_params['timesteps'], keep_prob=dropout,\n",
    "                                                                 uncertainty=model_params['use_uncertainty'], is_train=True)\n",
    "else:\n",
    "    prediction, logits, weights, biases, attention, cert = model(X, C, L, model_params['num_tasks'], model_params['num_layers'], model_params['num_hidden'], meta_data,\n",
    "                                                                 model_params['num_classes'],\n",
    "                                                                 model_params['timesteps'], keep_prob=dropout,\n",
    "                                                                 uncertainty=model_params['use_uncertainty'], is_train=True)\n",
    "\n",
    "if model_params['num_classes'] == 1:    \n",
    "    if model_params['num_tasks'] == -1:\n",
    "        loss_op = tf.losses.mean_squared_error(predictions=prediction, labels=Y)\n",
    "    else: #multitask regression.\n",
    "\n",
    "        pp = tf.reshape(tf.stack(prediction, axis=1), [-1, model_params['num_tasks']])\n",
    "        ppp = tf.reshape(tf.reduce_sum(pp * tf.one_hot(T, model_params['num_tasks']), axis=1), [-1, 1])\n",
    "        loss_op = tf.losses.mean_squared_error(predictions=ppp, labels=Y)\n",
    "else:\n",
    "    loss_op = tf.nn.sparse_softmax_cross_entropy_with_logits(labels=tf.reshape(Y,[-1]), logits=prediction)   \n",
    "    loss_op = tf.reduce_mean(loss_op)\n",
    "    prediction = tf.nn.softmax(prediction)\n",
    "        \n",
    "    \n",
    "# Initialize the variables (i.e. assign their default value)\n",
    "saver = loader = tf.train.Saver(tf.get_collection(tf.GraphKeys.TRAINABLE_VARIABLES), max_to_keep=10)\n",
    "#init model\n",
    "init = [tf.global_variables_initializer(), iter_test.initializer]\n",
    "# Start training\n",
    "sess = tf.Session()\n"
   ]
  },
  {
   "cell_type": "code",
   "execution_count": 5,
   "metadata": {
    "scrolled": true
   },
   "outputs": [
    {
     "name": "stdout",
     "output_type": "stream",
     "text": [
      "Restoring model weights from out/Tests_200206_ward_min2_PTtest_2/model55000\n",
      "WARNING:tensorflow:From /media/niklas/Data_3/MannProteomics_jean/MannProteomics/env/lib/python3.6/site-packages/tensorflow/python/training/saver.py:1266: checkpoint_exists (from tensorflow.python.training.checkpoint_management) is deprecated and will be removed in a future version.\n",
      "Instructions for updating:\n",
      "Use standard file APIs to check for files with this prefix.\n",
      "INFO:tensorflow:Restoring parameters from out/Tests_200206_ward_min2_PTtest_2/model55000\n"
     ]
    }
   ],
   "source": [
    "#predictions\n",
    "sess.run(init)\n",
    "model_file = tf.train.latest_checkpoint(model_params['model_dir'])\n",
    "if model_file:\n",
    "    ind1 = model_file.index('model')\n",
    "    resume_itr = int(model_file[ind1+5:])\n",
    "    print(\"Restoring model weights from \" + model_file)\n",
    "    saver.restore(sess, model_file)\n",
    "else:\n",
    "    print('no model found!')"
   ]
  },
  {
   "cell_type": "code",
   "execution_count": 6,
   "metadata": {
    "scrolled": true
   },
   "outputs": [],
   "source": [
    "n_preds = 1\n",
    "for i in range(n_preds):\n",
    "    label, preds, last, seq, charge, loss, att, unc, task  = predict(sess, X, Y, C, L, T, test_size, model_params, next_element_test, loss_op, prediction, logits, attention, meta_data, dropout, cert, dropout_rate = model_params['dropout_keep_prob'])\n",
    "    #label, preds, last, seq, charge, loss, att, unc, task  = predict(sess, X, Y, C, L, T, test_size, model_params, next_element_test, loss_op, prediction, logits, attention, meta_data, dropout, cert, dropout_rate = 1.0)\n",
    "    if model_params['num_classes'] != 1:\n",
    "        preds = np.argmax(preds,axis=1).reshape(-1,1)\n",
    "    data['label Prediction ' + str(i)] = preds[:,0]\n",
    "    sess.run(iter_test.initializer)"
   ]
  },
  {
   "cell_type": "code",
   "execution_count": 7,
   "metadata": {
    "scrolled": true
   },
   "outputs": [],
   "source": [
    "#data['attention'] = att.tolist()\n",
    "#data['last'] = last.tolist()\n",
    "#data[lab_name+' Prediction']= np.mean(data[['label Prediction ' + str(i) for i in range(n_preds)]], axis=1)\n",
    "#data.to_hdf(figure_dir+'data.h5', key='data')\n",
    "#data.to_csv(figure_dir+'data.csv')\n"
   ]
  },
  {
   "cell_type": "code",
   "execution_count": 8,
   "metadata": {},
   "outputs": [
    {
     "name": "stderr",
     "output_type": "stream",
     "text": [
      "/media/niklas/Data_3/MannProteomics_jean/MannProteomics/env/lib/python3.6/site-packages/matplotlib/__init__.py:886: MatplotlibDeprecationWarning: \n",
      "examples.directory is deprecated; in the future, examples will be found relative to the 'datapath' directory.\n",
      "  \"found relative to the 'datapath' directory.\".format(key))\n"
     ]
    }
   ],
   "source": [
    "df = data\n",
    "import matplotlib as mpl\n",
    "mpl.rcParams.update(mpl.rcParamsDefault)\n",
    "inline_rc = dict(mpl.rcParams)\n",
    "sns.set(rc={\"axes.facecolor\":\"#ffffff\",\n",
    "            \"axes.grid\":False,\n",
    "})\n",
    "sns.set_style('ticks')\n",
    "sns.despine()\n",
    "\n",
    "#df = pd.read_hdf(figure_dir+'data.h5')\n",
    "\n",
    "if replaced_charge:\n",
    "    data['Charge'] = data['Charge Prediction']\n",
    "    \n",
    "    "
   ]
  },
  {
   "cell_type": "code",
   "execution_count": 9,
   "metadata": {},
   "outputs": [
    {
     "name": "stdout",
     "output_type": "stream",
     "text": [
      "       Modified_sequence  label  label Prediction 0\n",
      "0  RM(ox)IPANPRPGRMGSAFK      0          656.129333\n",
      "1               LEQCMASK      0          513.634766\n",
      "2          KEHRYLSSYVPFA      0          624.250610\n",
      "3                MACGLVR      0          490.291412\n",
      "4      EGM(ox)ALTLGLAATR      0          636.545898\n"
     ]
    }
   ],
   "source": [
    "print(data[['Modified_sequence',model_params['lab_name'],model_params['lab_name']+' Prediction 0']].head())"
   ]
  },
  {
   "cell_type": "code",
   "execution_count": 10,
   "metadata": {},
   "outputs": [
    {
     "data": {
      "text/plain": [
       "{4}"
      ]
     },
     "execution_count": 10,
     "metadata": {},
     "output_type": "execute_result"
    }
   ],
   "source": [
    "set(data['Charge'].values)"
   ]
  },
  {
   "cell_type": "code",
   "execution_count": 11,
   "metadata": {},
   "outputs": [],
   "source": [
    "if model_params['lab_name'] != 'Charge':\n",
    "    data['label'] = data['CCS']"
   ]
  },
  {
   "cell_type": "code",
   "execution_count": 12,
   "metadata": {},
   "outputs": [
    {
     "data": {
      "text/html": [
       "<div>\n",
       "<style scoped>\n",
       "    .dataframe tbody tr th:only-of-type {\n",
       "        vertical-align: middle;\n",
       "    }\n",
       "\n",
       "    .dataframe tbody tr th {\n",
       "        vertical-align: top;\n",
       "    }\n",
       "\n",
       "    .dataframe thead th {\n",
       "        text-align: right;\n",
       "    }\n",
       "</style>\n",
       "<table border=\"1\" class=\"dataframe\">\n",
       "  <thead>\n",
       "    <tr style=\"text-align: right;\">\n",
       "      <th></th>\n",
       "      <th>Unnamed: 0</th>\n",
       "      <th>Sequence</th>\n",
       "      <th>Modified_sequence</th>\n",
       "      <th>Charge</th>\n",
       "      <th>len</th>\n",
       "      <th>CCS</th>\n",
       "      <th>label</th>\n",
       "      <th>encseq</th>\n",
       "      <th>minval</th>\n",
       "      <th>maxval</th>\n",
       "      <th>test</th>\n",
       "      <th>task</th>\n",
       "      <th>lens</th>\n",
       "      <th>label Prediction 0</th>\n",
       "    </tr>\n",
       "  </thead>\n",
       "  <tbody>\n",
       "    <tr>\n",
       "      <td>0</td>\n",
       "      <td>12692636</td>\n",
       "      <td>RMIPANPRPGRMGSAFK</td>\n",
       "      <td>RM(ox)IPANPRPGRMGSAFK</td>\n",
       "      <td>4</td>\n",
       "      <td>21</td>\n",
       "      <td>0</td>\n",
       "      <td>0</td>\n",
       "      <td>[16, 12, 0, 25, 26, 1, 9, 14, 2, 13, 14, 16, 1...</td>\n",
       "      <td>275.418854</td>\n",
       "      <td>1118.786133</td>\n",
       "      <td>True</td>\n",
       "      <td>0</td>\n",
       "      <td>21</td>\n",
       "      <td>656.129333</td>\n",
       "    </tr>\n",
       "    <tr>\n",
       "      <td>1</td>\n",
       "      <td>12692637</td>\n",
       "      <td>LEQCMASK</td>\n",
       "      <td>LEQCMASK</td>\n",
       "      <td>4</td>\n",
       "      <td>8</td>\n",
       "      <td>0</td>\n",
       "      <td>0</td>\n",
       "      <td>[11, 5, 15, 3, 12, 2, 17, 10]</td>\n",
       "      <td>275.418854</td>\n",
       "      <td>1118.786133</td>\n",
       "      <td>True</td>\n",
       "      <td>0</td>\n",
       "      <td>8</td>\n",
       "      <td>513.634766</td>\n",
       "    </tr>\n",
       "    <tr>\n",
       "      <td>2</td>\n",
       "      <td>12692638</td>\n",
       "      <td>KEHRYLSSYVPFA</td>\n",
       "      <td>KEHRYLSSYVPFA</td>\n",
       "      <td>4</td>\n",
       "      <td>13</td>\n",
       "      <td>0</td>\n",
       "      <td>0</td>\n",
       "      <td>[10, 5, 8, 16, 21, 11, 17, 17, 21, 19, 14, 6, 2]</td>\n",
       "      <td>275.418854</td>\n",
       "      <td>1118.786133</td>\n",
       "      <td>True</td>\n",
       "      <td>0</td>\n",
       "      <td>13</td>\n",
       "      <td>624.250610</td>\n",
       "    </tr>\n",
       "    <tr>\n",
       "      <td>3</td>\n",
       "      <td>12692639</td>\n",
       "      <td>MACGLVR</td>\n",
       "      <td>MACGLVR</td>\n",
       "      <td>4</td>\n",
       "      <td>7</td>\n",
       "      <td>0</td>\n",
       "      <td>0</td>\n",
       "      <td>[12, 2, 3, 7, 11, 19, 16]</td>\n",
       "      <td>275.418854</td>\n",
       "      <td>1118.786133</td>\n",
       "      <td>True</td>\n",
       "      <td>0</td>\n",
       "      <td>7</td>\n",
       "      <td>490.291412</td>\n",
       "    </tr>\n",
       "    <tr>\n",
       "      <td>4</td>\n",
       "      <td>12692640</td>\n",
       "      <td>EGMALTLGLAATR</td>\n",
       "      <td>EGM(ox)ALTLGLAATR</td>\n",
       "      <td>4</td>\n",
       "      <td>17</td>\n",
       "      <td>0</td>\n",
       "      <td>0</td>\n",
       "      <td>[5, 7, 12, 0, 25, 26, 1, 2, 11, 18, 11, 7, 11,...</td>\n",
       "      <td>275.418854</td>\n",
       "      <td>1118.786133</td>\n",
       "      <td>True</td>\n",
       "      <td>0</td>\n",
       "      <td>17</td>\n",
       "      <td>636.545898</td>\n",
       "    </tr>\n",
       "  </tbody>\n",
       "</table>\n",
       "</div>"
      ],
      "text/plain": [
       "   Unnamed: 0           Sequence      Modified_sequence  Charge  len  CCS  \\\n",
       "0    12692636  RMIPANPRPGRMGSAFK  RM(ox)IPANPRPGRMGSAFK       4   21    0   \n",
       "1    12692637           LEQCMASK               LEQCMASK       4    8    0   \n",
       "2    12692638      KEHRYLSSYVPFA          KEHRYLSSYVPFA       4   13    0   \n",
       "3    12692639            MACGLVR                MACGLVR       4    7    0   \n",
       "4    12692640      EGMALTLGLAATR      EGM(ox)ALTLGLAATR       4   17    0   \n",
       "\n",
       "   label                                             encseq      minval  \\\n",
       "0      0  [16, 12, 0, 25, 26, 1, 9, 14, 2, 13, 14, 16, 1...  275.418854   \n",
       "1      0                      [11, 5, 15, 3, 12, 2, 17, 10]  275.418854   \n",
       "2      0   [10, 5, 8, 16, 21, 11, 17, 17, 21, 19, 14, 6, 2]  275.418854   \n",
       "3      0                          [12, 2, 3, 7, 11, 19, 16]  275.418854   \n",
       "4      0  [5, 7, 12, 0, 25, 26, 1, 2, 11, 18, 11, 7, 11,...  275.418854   \n",
       "\n",
       "        maxval  test  task  lens  label Prediction 0  \n",
       "0  1118.786133  True     0    21          656.129333  \n",
       "1  1118.786133  True     0     8          513.634766  \n",
       "2  1118.786133  True     0    13          624.250610  \n",
       "3  1118.786133  True     0     7          490.291412  \n",
       "4  1118.786133  True     0    17          636.545898  "
      ]
     },
     "execution_count": 12,
     "metadata": {},
     "output_type": "execute_result"
    }
   ],
   "source": [
    "data.head()"
   ]
  },
  {
   "cell_type": "code",
   "execution_count": 13,
   "metadata": {},
   "outputs": [
    {
     "name": "stdout",
     "output_type": "stream",
     "text": [
      "saved to out/Tests_200206_ward_min2_PTtest_2//figures/prediction_label_4_batch.csv\n"
     ]
    }
   ],
   "source": [
    "data[['Modified_sequence','Charge','label Prediction 0']].to_csv(figure_dir + 'prediction_'+model_params['lab_name']+'_'+datasetname+'.csv')\n",
    "print('saved to', figure_dir + 'prediction_'+model_params['lab_name']+'_'+datasetname+'.csv')"
   ]
  },
  {
   "cell_type": "markdown",
   "metadata": {},
   "source": [
    "# Plots"
   ]
  },
  {
   "cell_type": "code",
   "execution_count": 14,
   "metadata": {},
   "outputs": [
    {
     "name": "stdout",
     "output_type": "stream",
     "text": [
      "1.3397840023999024\n"
     ]
    },
    {
     "data": {
      "image/png": "[encoded data removed]",
      "text/plain": [
       "<Figure size 640x480 with 1 Axes>"
      ]
     },
     "metadata": {},
     "output_type": "display_data"
    }
   ],
   "source": [
    "df['rel'] = (df[lab_name] / df[lab_name+' Prediction'] ) * 100 - 100\n",
    "df['abs'] = np.abs(df[lab_name] - df[lab_name+' Prediction'])\n",
    "\n",
    "rel = df['rel'].values\n",
    "rel_abs = np.abs(df['rel'].values)\n",
    "abs = df['abs'].values\n",
    "print(np.median(rel_abs))\n",
    "ax = sns.distplot(rel, norm_hist=False, kde = False, bins=50)    #, bins=200\n",
    "ax.set(xlabel='deviation (%)', ylabel='Counts')\n",
    "ax.set(xlim = [-10, 10])\n",
    "\n",
    "sns.despine()\n",
    "plt.title('Peptide CCS Prediction Deviation')\n",
    "plt.savefig(figure_dir + '/rel_error.svg', dpi=300)\n",
    "plt.show()\n",
    "\n",
    "ppred = df[lab_name+' Prediction']\n",
    "llabel = df[lab_name]"
   ]
  },
  {
   "cell_type": "code",
   "execution_count": 15,
   "metadata": {
    "scrolled": false
   },
   "outputs": [
    {
     "name": "stdout",
     "output_type": "stream",
     "text": [
      "Pearson 0.9918322471613341\n"
     ]
    },
    {
     "data": {
      "image/png": "[encoded data removed]",
      "text/plain": [
       "<Figure size 640x480 with 1 Axes>"
      ]
     },
     "metadata": {},
     "output_type": "display_data"
    }
   ],
   "source": [
    "ax = sns.regplot(x=df[lab_name], y=df[lab_name+' Prediction'],scatter_kws={'s':0.02})#, scatter_kws={'color' : ccs}\n",
    "pearson = scipy.stats.pearsonr(df[lab_name+' Prediction'], df[lab_name])\n",
    "print('Pearson', pearson[0])\n",
    "ax.set(xlabel='observed CCS', ylabel='predicted CCS')\n",
    "\n",
    "plt.text(700,450,'Pearson: {:.4f}'.format(pearson[0]))\n",
    "\n",
    "plt.title('Pearson Correlation')\n",
    "sns.despine()\n",
    "plt.savefig(figure_dir + '/pearson.png', dpi=300)\n",
    "\n",
    "plt.show()\n"
   ]
  },
  {
   "cell_type": "code",
   "execution_count": 18,
   "metadata": {},
   "outputs": [
    {
     "data": {
      "text/plain": [
       "1         1118.786133\n",
       "22        1118.786133\n",
       "28        1118.786133\n",
       "60        1118.786133\n",
       "118       1118.786133\n",
       "             ...     \n",
       "718911    1118.786133\n",
       "718912    1118.786133\n",
       "718913    1118.786133\n",
       "718915    1118.786133\n",
       "718916    1118.786133\n",
       "Name: maxval, Length: 185248, dtype: float64"
      ]
     },
     "execution_count": 18,
     "metadata": {},
     "output_type": "execute_result"
    }
   ],
   "source": [
    "df['maxval']"
   ]
  },
  {
   "cell_type": "code",
   "execution_count": null,
   "metadata": {},
   "outputs": [],
   "source": []
  }
 ],
 "metadata": {
  "kernelspec": {
   "display_name": ".env",
   "language": "python",
   "name": ".env"
  },
  "language_info": {
   "codemirror_mode": {
    "name": "ipython",
    "version": 3
   },
   "file_extension": ".py",
   "mimetype": "text/x-python",
   "name": "python",
   "nbconvert_exporter": "python",
   "pygments_lexer": "ipython3",
   "version": "3.6.9"
  }
 },
 "nbformat": 4,
 "nbformat_minor": 2
}
